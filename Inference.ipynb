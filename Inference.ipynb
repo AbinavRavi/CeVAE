{
 "cells": [
  {
   "cell_type": "code",
   "execution_count": 1,
   "metadata": {},
   "outputs": [],
   "source": [
    "from network import enc_dec\n",
    "from dataloader import image_loader\n",
    "from dataloader import cevae_loader\n",
    "from utils import loss_fn, tb_utils, utils\n",
    "from torch.utils.data import DataLoader\n",
    "import numpy as np\n",
    "import torch\n",
    "import torch.nn as nn\n",
    "import torchvision\n",
    "from torch.utils.tensorboard import SummaryWriter\n",
    "import torch.nn.functional as F\n",
    "import torch.optim as optim\n",
    "from torch.optim.lr_scheduler import ReduceLROnPlateau\n",
    "from tqdm import tqdm\n",
    "from copy import deepcopy\n",
    "from datetime import date\n",
    "from metrics import metrics"
   ]
  },
  {
   "cell_type": "code",
   "execution_count": 2,
   "metadata": {},
   "outputs": [],
   "source": [
    "config = utils.read_config('./config/cevae_config.yml')\n",
    "device = torch.device(\"cuda\" if torch.cuda.is_available() else \"cpu\")\n",
    "seed = config['inference']['seed']\n",
    "utils.set_seed(seed)"
   ]
  },
  {
   "cell_type": "markdown",
   "metadata": {},
   "source": [
    "## Slice wise inference"
   ]
  },
  {
   "cell_type": "code",
   "execution_count": 3,
   "metadata": {},
   "outputs": [],
   "source": [
    "normal_path = config['inference']['dataloader']['normal_path']\n",
    "abnormal_path = config['inference']['dataloader']['abnormal_path']\n",
    "resize = tuple(config['inference']['dataloader']['resize'])\n",
    "patch_size = tuple(config['inference']['dataloader']['patchsize'])\n",
    "margin = tuple(config['inference']['dataloader']['margin'])\n",
    "batch_size = config['inference']['dataloader']['batch']\n",
    "num_workers = config['inference']['dataloader']['num_workers']"
   ]
  },
  {
   "cell_type": "code",
   "execution_count": 4,
   "metadata": {},
   "outputs": [],
   "source": [
    "h_size = config['inference']['model']['h_size']\n",
    "input_size = config['inference']['model']['input_size']\n",
    "z_dim = config['inference']['model']['z_dim']\n",
    "lamda = torch.tensor(config['inference']['model']['lamda'])\n",
    "beta = torch.tensor(config['inference']['model']['beta'])"
   ]
  },
  {
   "cell_type": "code",
   "execution_count": 5,
   "metadata": {},
   "outputs": [],
   "source": [
    "model_path = config['inference']['model']['load_model']\n",
    "model_module = enc_dec.VAE(input_size, h_size, z_dim)\n",
    "model = torch.load(model_path,map_location=device)"
   ]
  },
  {
   "cell_type": "code",
   "execution_count": 6,
   "metadata": {},
   "outputs": [],
   "source": [
    "normal_data = cevae_loader.cevae(normal_path,patchsize=patch_size,margin=margin,resize=resize)\n",
    "normal_loader = DataLoader(normal_data,batch_size=batch_size,num_workers=num_workers)\n",
    "abnormal_data = cevae_loader.cevae(abnormal_path,patchsize=patch_size,margin=margin,resize=resize)\n",
    "abnormal_loader = DataLoader(abnormal_data,batch_size=batch_size,num_workers=num_workers)"
   ]
  },
  {
   "cell_type": "code",
   "execution_count": 7,
   "metadata": {},
   "outputs": [
    {
     "name": "stderr",
     "output_type": "stream",
     "text": [
      "                                                             \r"
     ]
    }
   ],
   "source": [
    "normal_score = []\n",
    "model.eval()\n",
    "with torch.no_grad():\n",
    "    for idx,(data,masked_data) in enumerate(tqdm(normal_loader,desc='val_iter',leave=False)):\n",
    "        data, masked_data = data.to(device), masked_data.to(device)\n",
    "        rec_vae,mu, std = model(data)\n",
    "        rec_ce,_,_ = model(masked_data)\n",
    "\n",
    "        kl_loss = loss_fn.kl_divergence(mu,std)\n",
    "        rec_loss_vae = loss_fn.rec_loss_fn(rec_vae,data)\n",
    "        loss_vae = rec_loss_vae + kl_loss*beta\n",
    "        rec_loss_ce = loss_fn.rec_loss_fn(rec_ce,data)\n",
    "        loss = (1 - lamda)*loss_vae + lamda*rec_loss_ce\n",
    "        normal_score.append(loss)"
   ]
  },
  {
   "cell_type": "code",
   "execution_count": 8,
   "metadata": {},
   "outputs": [
    {
     "name": "stderr",
     "output_type": "stream",
     "text": [
      "                                                         \r"
     ]
    }
   ],
   "source": [
    "abnormal_score = []\n",
    "model.eval()\n",
    "with torch.no_grad():\n",
    "    for idx,(data,masked_data) in enumerate(tqdm(abnormal_loader,desc='iter',leave=False)):\n",
    "        data, masked_data = data.to(device), masked_data.to(device)\n",
    "        rec_vae,mu, std = model(data)\n",
    "        rec_ce,_,_ = model(masked_data)\n",
    "\n",
    "        kl_loss = loss_fn.kl_divergence(mu,std)\n",
    "        rec_loss_vae = loss_fn.rec_loss_fn(rec_vae,data)\n",
    "        loss_vae = rec_loss_vae + kl_loss*beta\n",
    "        rec_loss_ce = loss_fn.rec_loss_fn(rec_ce,data)\n",
    "        loss = (1 - lamda)*loss_vae + lamda*rec_loss_ce\n",
    "        abnormal_score.append(loss)"
   ]
  },
  {
   "cell_type": "code",
   "execution_count": 9,
   "metadata": {},
   "outputs": [],
   "source": [
    "auroc,aupr,roc_curve,pr_curve = metrics.get_metrics(abnormal_score,normal_score)"
   ]
  },
  {
   "cell_type": "code",
   "execution_count": 10,
   "metadata": {},
   "outputs": [
    {
     "data": {
      "text/plain": [
       "(0.6515214190846292, 0.3687309393921744)"
      ]
     },
     "execution_count": 10,
     "metadata": {},
     "output_type": "execute_result"
    }
   ],
   "source": [
    "auroc,aupr"
   ]
  },
  {
   "cell_type": "code",
   "execution_count": 11,
   "metadata": {},
   "outputs": [],
   "source": [
    "fpr,tpr,_ = roc_curve\n",
    "precision,recall, _ = pr_curve"
   ]
  },
  {
   "cell_type": "code",
   "execution_count": 19,
   "metadata": {},
   "outputs": [],
   "source": [
    "def save_scores(array,filename,savepath):\n",
    "    np.save(savepath+filename,array)"
   ]
  },
  {
   "cell_type": "code",
   "execution_count": 20,
   "metadata": {},
   "outputs": [],
   "source": [
    "save_scores(fpr,'false_positive_slicewise_CEVAE','./results/')\n",
    "save_scores(tpr,'True_positive_slicewise_CEVAE','./results/')\n",
    "save_scores(precision,'precision_slicewise_CEVAE','./results/')\n",
    "save_scores(recall,'recall_slicewise_CEVAE','./results/')"
   ]
  },
  {
   "cell_type": "markdown",
   "metadata": {},
   "source": [
    "## Volume wise scores"
   ]
  },
  {
   "cell_type": "code",
   "execution_count": 21,
   "metadata": {},
   "outputs": [],
   "source": [
    "normal_volume = config['inference']['dataloader']['normal_volumes']\n",
    "abnormal_volume = config['inference']['dataloader']['abnormal_volumes']"
   ]
  },
  {
   "cell_type": "code",
   "execution_count": 22,
   "metadata": {},
   "outputs": [],
   "source": [
    "normal_vdata = cevae_loader.cevae(normal_volume,patchsize=patch_size,margin=margin,resize=resize)\n",
    "abnormal_vdata = cevae_loader.cevae(abnormal_volume,patchsize=patch_size,margin=margin,resize=resize)\n",
    "normal_vloader = DataLoader(normal_vdata,batch_size=batch_size,num_workers=num_workers)\n",
    "abnormal_vloader = DataLoader(abnormal_vdata,batch_size=batch_size,num_workers=num_workers)"
   ]
  },
  {
   "cell_type": "code",
   "execution_count": 23,
   "metadata": {},
   "outputs": [
    {
     "name": "stderr",
     "output_type": "stream",
     "text": [
      "                                                         \r"
     ]
    }
   ],
   "source": [
    "volume_normal = []\n",
    "model.eval()\n",
    "with torch.no_grad():\n",
    "    for idx,(data,masked_data) in enumerate(tqdm(normal_vloader,desc='iter',leave=False)):\n",
    "        data, masked_data = data.to(device), masked_data.to(device)\n",
    "        rec_vae,mu, std = model(data)\n",
    "        rec_ce,_,_ = model(masked_data)\n",
    "\n",
    "        kl_loss = loss_fn.kl_divergence(mu,std)\n",
    "        rec_loss_vae = loss_fn.rec_loss_fn(rec_vae,data)\n",
    "        loss_vae = rec_loss_vae + kl_loss*beta\n",
    "        rec_loss_ce = loss_fn.rec_loss_fn(rec_ce,data)\n",
    "        loss = (1 - lamda)*loss_vae + lamda*rec_loss_ce\n",
    "        volume_normal.append(loss)"
   ]
  },
  {
   "cell_type": "code",
   "execution_count": 24,
   "metadata": {},
   "outputs": [
    {
     "name": "stderr",
     "output_type": "stream",
     "text": [
      "                                                         \r"
     ]
    }
   ],
   "source": [
    "volume_abnormal = []\n",
    "model.eval()\n",
    "with torch.no_grad():\n",
    "    for idx,(data,masked_data) in enumerate(tqdm(abnormal_vloader,desc='iter',leave=False)):\n",
    "        data, masked_data = data.to(device), masked_data.to(device)\n",
    "        rec_vae,mu, std = model(data)\n",
    "        rec_ce,_,_ = model(masked_data)\n",
    "\n",
    "        kl_loss = loss_fn.kl_divergence(mu,std)\n",
    "        rec_loss_vae = loss_fn.rec_loss_fn(rec_vae,data)\n",
    "        loss_vae = rec_loss_vae + kl_loss*beta\n",
    "        rec_loss_ce = loss_fn.rec_loss_fn(rec_ce,data)\n",
    "        loss = (1 - lamda)*loss_vae + lamda*rec_loss_ce\n",
    "        volume_abnormal.append(loss)"
   ]
  },
  {
   "cell_type": "code",
   "execution_count": 25,
   "metadata": {},
   "outputs": [],
   "source": [
    "vauroc,vaupr,vroc, vpr = metrics.get_metrics(volume_abnormal,volume_normal)"
   ]
  },
  {
   "cell_type": "code",
   "execution_count": 26,
   "metadata": {},
   "outputs": [
    {
     "data": {
      "text/plain": [
       "(0.6688839979127315, 0.7037036897423272)"
      ]
     },
     "execution_count": 26,
     "metadata": {},
     "output_type": "execute_result"
    }
   ],
   "source": [
    "vauroc,vaupr"
   ]
  },
  {
   "cell_type": "code",
   "execution_count": 27,
   "metadata": {},
   "outputs": [],
   "source": [
    "vfpr,vtpr,_ = vroc\n",
    "vprec,vrec,_ = vpr"
   ]
  },
  {
   "cell_type": "code",
   "execution_count": 28,
   "metadata": {},
   "outputs": [],
   "source": [
    "save_scores(vfpr,'false_positive_clinicwise_CEVAE','./results/')\n",
    "save_scores(vtpr,'True_positive_clinicwise_CEVAE','./results/')\n",
    "save_scores(vprec,'precision_clincwise_CEVAE','./results/')\n",
    "save_scores(vrec,'recall_clinicwise_CEVAE','./results/')"
   ]
  },
  {
   "cell_type": "markdown",
   "metadata": {},
   "source": [
    "## Mask creation and segmentation evaluation"
   ]
  },
  {
   "cell_type": "code",
   "execution_count": 9,
   "metadata": {},
   "outputs": [],
   "source": [
    "from utils.image_utils import *\n",
    "from utils.mask_utils import *\n",
    "import matplotlib.pyplot as plt"
   ]
  },
  {
   "cell_type": "code",
   "execution_count": 10,
   "metadata": {},
   "outputs": [],
   "source": [
    "data = load_data(abnormal_path,resize)\n",
    "dataloader = DataLoader(data,batch_size=batch_size,num_workers=num_workers)"
   ]
  },
  {
   "cell_type": "code",
   "execution_count": 16,
   "metadata": {},
   "outputs": [],
   "source": [
    "save_path = './masks/cevae_masks/'"
   ]
  },
  {
   "cell_type": "code",
   "execution_count": 20,
   "metadata": {},
   "outputs": [],
   "source": [
    "with torch.no_grad():\n",
    "    for idx,(data,filename) in enumerate(dataloader):\n",
    "        data = data.float()\n",
    "        data = data.to(device)\n",
    "        output,mu,std = model(data)\n",
    "        mask = output - data\n",
    "        mask = mask.detach().cpu().numpy()\n",
    "        mask = np.squeeze(mask,axis=0)\n",
    "        mask = normalise_mask(mask[:,:,:])\n",
    "        mask = mask < 0.45\n",
    "        save_masks(mask,filename[0],save_path)\n",
    "        "
   ]
  },
  {
   "cell_type": "markdown",
   "metadata": {},
   "source": [
    "## segmentation metric"
   ]
  },
  {
   "cell_type": "code",
   "execution_count": 21,
   "metadata": {},
   "outputs": [
    {
     "data": {
      "text/plain": [
       "(3505, 3505)"
      ]
     },
     "execution_count": 21,
     "metadata": {},
     "output_type": "execute_result"
    }
   ],
   "source": [
    "gt_path = './masks/segmentations/'\n",
    "mask_path = './masks/cevae_masks/'\n",
    "gt_files = sorted(glob(gt_path+'*.npy',recursive=True))\n",
    "mask_files = sorted(glob(mask_path+'*.npy',recursive=True))\n",
    "len(gt_files),len(mask_files)"
   ]
  },
  {
   "cell_type": "code",
   "execution_count": 23,
   "metadata": {},
   "outputs": [
    {
     "name": "stderr",
     "output_type": "stream",
     "text": [
      "100%|██████████| 3505/3505 [00:21<00:00, 164.11it/s]\n"
     ]
    }
   ],
   "source": [
    "dice_scores = []\n",
    "for i in tqdm(range(len(mask_files))):\n",
    "    mask_file = np.load(mask_files[i])\n",
    "    gt_file = np.load(gt_files[i])\n",
    "    dice_scores.append(metrics.dice(gt_file,mask_file))"
   ]
  },
  {
   "cell_type": "code",
   "execution_count": 24,
   "metadata": {},
   "outputs": [
    {
     "data": {
      "text/plain": [
       "0.11842989473200181"
      ]
     },
     "execution_count": 24,
     "metadata": {},
     "output_type": "execute_result"
    }
   ],
   "source": [
    "avg_dice = np.array(dice_scores).mean()\n",
    "avg_dice"
   ]
  },
  {
   "cell_type": "code",
   "execution_count": null,
   "metadata": {},
   "outputs": [],
   "source": []
  }
 ],
 "metadata": {
  "kernelspec": {
   "display_name": "Python 3",
   "language": "python",
   "name": "python3"
  },
  "language_info": {
   "codemirror_mode": {
    "name": "ipython",
    "version": 3
   },
   "file_extension": ".py",
   "mimetype": "text/x-python",
   "name": "python",
   "nbconvert_exporter": "python",
   "pygments_lexer": "ipython3",
   "version": "3.6.9"
  }
 },
 "nbformat": 4,
 "nbformat_minor": 4
}
